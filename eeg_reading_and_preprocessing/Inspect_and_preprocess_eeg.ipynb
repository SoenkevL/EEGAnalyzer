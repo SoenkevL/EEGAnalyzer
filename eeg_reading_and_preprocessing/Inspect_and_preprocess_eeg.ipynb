{
 "cells": [
  {
   "cell_type": "markdown",
   "source": [
    "# Preprocessing steps for an EEG\n",
    "- Load the data\n",
    "- Print information about the data\n",
    "- load the annotations using scripts from suzanne in matlab via matlab engine\n",
    "- add the annotations to the file\n",
    "- check the file visually ('bad' annotations can be added here for artifacts)\n",
    "- check the psd of the eeg channels\n",
    "- filter between 0.5 and 35 hz\n",
    "- resample to 100hz sampling freq\n",
    "- recheck psd and data\n",
    "- save file to fif format"
   ],
   "metadata": {
    "collapsed": false
   },
   "id": "716d0a824b85f96f"
  },
  {
   "cell_type": "markdown",
   "source": [
    "## Set up environment"
   ],
   "metadata": {
    "collapsed": false
   },
   "id": "da8df70545b9cf35"
  },
  {
   "cell_type": "code",
   "source": "from PreprocessingFunctions import *",
   "metadata": {
    "collapsed": false,
    "ExecuteTime": {
     "end_time": "2024-12-15T20:17:28.914107Z",
     "start_time": "2024-12-15T20:17:27.493553Z"
    }
   },
   "id": "7cd44f7f323c452d",
   "outputs": [],
   "execution_count": 1
  },
  {
   "cell_type": "code",
   "source": [
    "mne.set_config('MNE_BROWSER_BACKEND', 'qt')\n",
    "# if error on linux (debian) see the following link: https://web.stanford.edu/dept/cs_edu/resources/qt/install-linux\n",
    "# if error on linux (arch) install qtcreator from pacman: pacman -S qtcreator"
   ],
   "metadata": {
    "collapsed": false,
    "ExecuteTime": {
     "end_time": "2024-12-15T20:17:29.224426Z",
     "start_time": "2024-12-15T20:17:28.922451Z"
    }
   },
   "id": "7a27cbf8484cc4a9",
   "outputs": [
    {
     "name": "stdout",
     "output_type": "stream",
     "text": [
      "Using qt as 2D backend.\n"
     ]
    }
   ],
   "execution_count": 2
  },
  {
   "cell_type": "code",
   "source": [
    "mne.set_log_level(verbose='WARNING')"
   ],
   "metadata": {
    "collapsed": false,
    "ExecuteTime": {
     "end_time": "2024-12-15T20:17:29.304100Z",
     "start_time": "2024-12-15T20:17:29.302083Z"
    }
   },
   "id": "f170f01ee4a77e35",
   "outputs": [],
   "execution_count": 3
  },
  {
   "cell_type": "markdown",
   "source": [
    "## Load data"
   ],
   "metadata": {
    "collapsed": false
   },
   "id": "e104eebb2b63fdda"
  },
  {
   "cell_type": "code",
   "source": [
    "sampleSignalPath = '../example/eeg/PN001-original.edf' #'/path/to/edf/sample.edf'\n",
    "annot_path = sampleSignalPath.replace('original.edf', 'annot-sz.mat')  # works only if there is allready an existing annotation\n",
    "out_path = sampleSignalPath.replace('original.edf', 'preprocessed-raw.fif')\n",
    "raw = mne.io.read_raw(sampleSignalPath)"
   ],
   "metadata": {
    "collapsed": false,
    "ExecuteTime": {
     "end_time": "2024-12-15T20:17:29.400112Z",
     "start_time": "2024-12-15T20:17:29.353957Z"
    }
   },
   "id": "5571d6c052faa986",
   "outputs": [
    {
     "name": "stderr",
     "output_type": "stream",
     "text": [
      "/tmp/ipykernel_29825/3529129933.py:4: RuntimeWarning: Channels contain different highpass filters. Highest filter setting will be stored.\n",
      "  raw = mne.io.read_raw(sampleSignalPath)\n",
      "/tmp/ipykernel_29825/3529129933.py:4: RuntimeWarning: Channels contain different lowpass filters. Lowest filter setting will be stored.\n",
      "  raw = mne.io.read_raw(sampleSignalPath)\n",
      "/tmp/ipykernel_29825/3529129933.py:4: RuntimeWarning: Highpass cutoff frequency 15.91549 is greater than lowpass cutoff frequency 15.0, setting values to 0 and Nyquist.\n",
      "  raw = mne.io.read_raw(sampleSignalPath)\n"
     ]
    }
   ],
   "execution_count": 4
  },
  {
   "cell_type": "code",
   "source": [
    "raw = raw.pick_types(eeg=True)\n",
    "print(raw)\n",
    "print(raw.info)\n",
    "print(raw.ch_names)\n",
    "print(raw.info['subject_info'])"
   ],
   "metadata": {
    "collapsed": false,
    "ExecuteTime": {
     "end_time": "2024-12-15T20:17:29.425655Z",
     "start_time": "2024-12-15T20:17:29.415978Z"
    }
   },
   "id": "941def8c59e22f0e",
   "outputs": [
    {
     "name": "stdout",
     "output_type": "stream",
     "text": [
      "<RawEDF | PN001-original.edf, 35 x 1344000 (2625.0 s), ~31 kB, data not loaded>\n",
      "<Info | 8 non-empty values\n",
      " bads: []\n",
      " ch_names: EEG Fp1, EEG F3, EEG C3, EEG P3, EEG O1, EEG F7, EEG T3, EEG T5, ...\n",
      " chs: 35 EEG\n",
      " custom_ref_applied: False\n",
      " highpass: 0.0 Hz\n",
      " lowpass: 256.0 Hz\n",
      " meas_date: 2016-01-01 19:39:33 UTC\n",
      " nchan: 35\n",
      " projs: []\n",
      " sfreq: 512.0 Hz\n",
      " subject_info: 1 item (dict)\n",
      ">\n",
      "['EEG Fp1', 'EEG F3', 'EEG C3', 'EEG P3', 'EEG O1', 'EEG F7', 'EEG T3', 'EEG T5', 'EEG Fc1', 'EEG Fc5', 'EEG Cp1', 'EEG Cp5', 'EEG F9', 'EEG Fz', 'EEG Cz', 'EEG Pz', 'EEG Fp2', 'EEG F4', 'EEG C4', 'EEG P4', 'EEG O2', 'EEG F8', 'EEG T4', 'EEG T6', 'EEG Fc2', 'EEG Fc6', 'EEG Cp2', 'EEG Cp6', 'EEG F10', 'EKG EKG', 'SPO2', 'HR', '1', '2', 'MK']\n",
      "{'his_id': ''}\n"
     ]
    }
   ],
   "execution_count": 5
  },
  {
   "cell_type": "markdown",
   "source": [
    "## Extract info about data"
   ],
   "metadata": {
    "collapsed": false
   },
   "id": "4b78879c5e102c48"
  },
  {
   "cell_type": "code",
   "source": [
    "# be aware that this needs to have matlab set up with the script accessible otherwise it will fail, also needs matlab engine for python to work\n",
    "# raw = update_annotations_suzanne(raw, annot_path, sampleSignalPath, method='replace')"
   ],
   "metadata": {
    "collapsed": false,
    "ExecuteTime": {
     "end_time": "2024-12-15T20:17:29.515449Z",
     "start_time": "2024-12-15T20:17:29.513405Z"
    }
   },
   "id": "6307933ac9d56441",
   "outputs": [],
   "execution_count": 6
  },
  {
   "cell_type": "markdown",
   "source": [
    "## First visual inspection of the data"
   ],
   "metadata": {
    "collapsed": false
   },
   "id": "62f18301f94c91cb"
  },
  {
   "cell_type": "code",
   "source": "raw.plot(duration=20, remove_dc=False, block=True, show_options=True)",
   "metadata": {
    "collapsed": false,
    "ExecuteTime": {
     "end_time": "2024-12-15T20:17:33.917048Z",
     "start_time": "2024-12-15T20:17:29.561422Z"
    }
   },
   "id": "e990c77325597cbf",
   "outputs": [
    {
     "data": {
      "text/plain": [
       "<mne_qt_browser._pg_figure.MNEQtBrowser at 0x7638eaa437f0>"
      ]
     },
     "execution_count": 7,
     "metadata": {},
     "output_type": "execute_result"
    }
   ],
   "execution_count": 7
  },
  {
   "cell_type": "code",
   "source": "raw.compute_psd(fmax=70, remove_dc=False).plot(average='mean', picks='eeg')",
   "metadata": {
    "collapsed": false,
    "ExecuteTime": {
     "end_time": "2024-12-15T20:17:35.553577Z",
     "start_time": "2024-12-15T20:17:33.956873Z"
    }
   },
   "id": "742c55b371c34669",
   "outputs": [
    {
     "name": "stderr",
     "output_type": "stream",
     "text": [
      "/tmp/ipykernel_29825/3222297335.py:1: UserWarning: Zero value in spectrum for channels SPO2, HR\n",
      "  raw.compute_psd(fmax=70, remove_dc=False).plot(average='mean', picks='eeg')\n",
      "/tmp/ipykernel_29825/3222297335.py:1: UserWarning: Infinite value in PSD for channels SPO2, HR.\n",
      "These channels might be dead.\n",
      "  raw.compute_psd(fmax=70, remove_dc=False).plot(average='mean', picks='eeg')\n",
      "/home/soenkevanloh/Documents/EEGAnalyzer/.venv/lib/python3.12/site-packages/mne/viz/utils.py:158: UserWarning: FigureCanvasAgg is non-interactive, and thus cannot be shown\n",
      "  (fig or plt).show(**kwargs)\n"
     ]
    },
    {
     "data": {
      "text/plain": [
       "<MNELineFigure size 1000x350 with 1 Axes>"
      ],
      "image/png": "[encoded data removed]"
     },
     "execution_count": 8,
     "metadata": {},
     "output_type": "execute_result"
    },
    {
     "data": {
      "text/plain": [
       "<MNELineFigure size 1000x350 with 1 Axes>"
      ],
      "image/png": "[encoded data removed]"
     },
     "metadata": {},
     "output_type": "display_data"
    }
   ],
   "execution_count": 8
  },
  {
   "cell_type": "markdown",
   "source": [
    "## Load the data and filter it"
   ],
   "metadata": {
    "collapsed": false
   },
   "id": "6db02281e86332ca"
  },
  {
   "cell_type": "code",
   "source": [
    "l_freq = 0.5 #if should not be changed use raw.info['highpass']\n",
    "h_freq = 35 #if should not be changed use raw.info['lowpass']\n",
    "sfreq = 200 #if should not be changed use raw.info['sfreq']"
   ],
   "metadata": {
    "collapsed": false,
    "ExecuteTime": {
     "end_time": "2024-12-15T20:17:35.563364Z",
     "start_time": "2024-12-15T20:17:35.561335Z"
    }
   },
   "id": "14da3cf14b2fc850",
   "outputs": [],
   "execution_count": 9
  },
  {
   "cell_type": "code",
   "source": [
    "raw_unfiltered = raw.copy()\n",
    "raw.load_data()\n",
    "raw.filter(l_freq=l_freq,h_freq=h_freq)"
   ],
   "metadata": {
    "collapsed": false,
    "ExecuteTime": {
     "end_time": "2024-12-15T20:17:37.131968Z",
     "start_time": "2024-12-15T20:17:35.608487Z"
    }
   },
   "id": "211f75e758ddd4ae",
   "outputs": [
    {
     "data": {
      "text/plain": [
       "<RawEDF | PN001-original.edf, 35 x 1344000 (2625.0 s), ~358.9 MB, data loaded>"
      ],
      "text/html": [
       "<script type=\"text/javascript\">\n",
       "    const toggleVisibility = (className) => {\n",
       "\n",
       "  const elements = document.querySelectorAll(`.${className}`)\n",
       "\n",
       "  elements.forEach(element => {\n",
       "    if (element.classList.contains('repr-section-header')) {\n",
       "      // Don't collapse the section header row.\n",
       "       return\n",
       "    }\n",
       "    if (element.classList.contains('repr-element-collapsed')) {\n",
       "      // Force a reflow to ensure the display change takes effect before removing the class\n",
       "      element.classList.remove('repr-element-collapsed')\n",
       "      element.offsetHeight // This forces the browser to recalculate layout\n",
       "      element.classList.remove('repr-element-faded')\n",
       "    } else {\n",
       "      // Start transition to hide the element\n",
       "      element.classList.add('repr-element-faded')\n",
       "      element.addEventListener('transitionend', handler = (e) => {\n",
       "        if (e.propertyName === 'opacity' && getComputedStyle(element).opacity === '0.2') {\n",
       "          element.classList.add('repr-element-collapsed')\n",
       "          element.removeEventListener('transitionend', handler)\n",
       "        }\n",
       "      });\n",
       "    }\n",
       "  });\n",
       "\n",
       "  // Take care of button (adjust caret)\n",
       "  const button = document.querySelectorAll(`.repr-section-header.${className} > th.repr-section-toggle-col > button`)[0]\n",
       "  button.classList.toggle('collapsed')\n",
       "\n",
       "  // Take care of the tooltip of the section header row\n",
       "  const sectionHeaderRow = document.querySelectorAll(`tr.repr-section-header.${className}`)[0]\n",
       "  sectionHeaderRow.classList.toggle('collapsed')\n",
       "  sectionHeaderRow.title = sectionHeaderRow.title === 'Hide section' ? 'Show section' : 'Hide section'\n",
       "}\n",
       "</script>\n",
       "\n",
       "<style type=\"text/css\">\n",
       "    table.repr.table.table-hover.table-striped.table-sm.table-responsive.small {\n",
       "  /* Don't make rows wider than they need to be. */\n",
       "  display: inline;\n",
       "}\n",
       "\n",
       "table > tbody > tr.repr-element > td {\n",
       "  /* Apply a tighter layout to the table cells. */\n",
       "  padding-top: 0.1rem;\n",
       "  padding-bottom: 0.1rem;\n",
       "  padding-right: 1rem;\n",
       "}\n",
       "\n",
       "table > tbody > tr > td.repr-section-toggle-col {\n",
       "  /* Remove background and border of the first cell in every row\n",
       "     (this row is only used for the collapse / uncollapse caret)\n",
       "\n",
       "     TODO: Need to find a good solution for VS Code that works in both\n",
       "           light and dark mode. */\n",
       "  border-color: transparent;\n",
       "  --bs-table-accent-bg: transparent;\n",
       "}\n",
       "\n",
       "tr.repr-section-header {\n",
       "  /* Remove stripes from section header rows */\n",
       "  background-color: transparent;\n",
       "  border-color: transparent;\n",
       "  --bs-table-striped-bg: transparent;\n",
       "  cursor: pointer;\n",
       "}\n",
       "\n",
       "tr.repr-section-header > th {\n",
       "  text-align: left !important;\n",
       "  vertical-align: middle;\n",
       "}\n",
       "\n",
       ".repr-element, tr.repr-element > td {\n",
       "  opacity: 1;\n",
       "  text-align: left !important;\n",
       "}\n",
       "\n",
       ".repr-element-faded {\n",
       "  transition: 0.3s ease;\n",
       "  opacity: 0.2;\n",
       "}\n",
       "\n",
       ".repr-element-collapsed {\n",
       "  display: none;\n",
       "}\n",
       "\n",
       "/* Collapse / uncollapse button and the caret it contains. */\n",
       ".repr-section-toggle-col button {\n",
       "  cursor: pointer;\n",
       "  width: 1rem;\n",
       "  background-color: transparent;\n",
       "  border-color: transparent;\n",
       "}\n",
       "\n",
       "span.collapse-uncollapse-caret {\n",
       "  width: 1rem;\n",
       "  height: 1rem;\n",
       "  display: block;\n",
       "  background-repeat: no-repeat;\n",
       "  background-position: left;\n",
       "  background-size: contain;\n",
       "}\n",
       "\n",
       "/* The collapse / uncollapse carets were copied from the free Font Awesome collection and adjusted. */\n",
       "\n",
       "/* Default to black carets for light mode */\n",
       ".repr-section-toggle-col > button.collapsed > span.collapse-uncollapse-caret {\n",
       "  background-image: url('data:image/svg+xml;charset=utf8,<svg xmlns=\"http://www.w3.org/2000/svg\" viewBox=\"0 0 256 512\"><!--!Font Awesome Free 6.5.2 by @fontawesome - https://fontawesome.com License - https://fontawesome.com/license/free Copyright 2024 Fonticons, Inc.--><path fill=\"black\" d=\"M246.6 278.6c12.5-12.5 12.5-32.8 0-45.3l-128-128c-9.2-9.2-22.9-11.9-34.9-6.9s-19.8 16.6-19.8 29.6l0 256c0 12.9 7.8 24.6 19.8 29.6s25.7 2.2 34.9-6.9l128-128z\"/></svg>');\n",
       "}\n",
       "\n",
       ".repr-section-toggle-col\n",
       "  > button:not(.collapsed)\n",
       "  > span.collapse-uncollapse-caret {\n",
       "  background-image: url('data:image/svg+xml;charset=utf8,<svg xmlns=\"http://www.w3.org/2000/svg\" viewBox=\"0 0 320 512\"><!--!Font Awesome Free 6.5.2 by @fontawesome - https://fontawesome.com License - https://fontawesome.com/license/free Copyright 2024 Fonticons, Inc.--><path fill=\"black\" d=\"M137.4 374.6c12.5 12.5 32.8 12.5 45.3 0l128-128c9.2-9.2 11.9-22.9 6.9-34.9s-16.6-19.8-29.6-19.8L32 192c-12.9 0-24.6 7.8-29.6 19.8s-2.2 25.7 6.9 34.9l128 128z\"/></svg>');\n",
       "}\n",
       "\n",
       "/* Use white carets for dark mode */\n",
       "@media (prefers-color-scheme: dark) {\n",
       "  .repr-section-toggle-col > button.collapsed > span.collapse-uncollapse-caret {\n",
       "    background-image: url('data:image/svg+xml;charset=utf8,<svg xmlns=\"http://www.w3.org/2000/svg\" viewBox=\"0 0 256 512\"><!--!Font Awesome Free 6.5.2 by @fontawesome - https://fontawesome.com License - https://fontawesome.com/license/free Copyright 2024 Fonticons, Inc.--><path fill=\"white\" d=\"M246.6 278.6c12.5-12.5 12.5-32.8 0-45.3l-128-128c-9.2-9.2-22.9-11.9-34.9-6.9s-19.8 16.6-19.8 29.6l0 256c0 12.9 7.8 24.6 19.8 29.6s25.7 2.2 34.9-6.9l128-128z\"/></svg>');\n",
       "  }\n",
       "\n",
       "  .repr-section-toggle-col\n",
       "    > button:not(.collapsed)\n",
       "    > span.collapse-uncollapse-caret {\n",
       "    background-image: url('data:image/svg+xml;charset=utf8,<svg xmlns=\"http://www.w3.org/2000/svg\" viewBox=\"0 0 320 512\"><!--!Font Awesome Free 6.5.2 by @fontawesome - https://fontawesome.com License - https://fontawesome.com/license/free Copyright 2024 Fonticons, Inc.--><path fill=\"white\" d=\"M137.4 374.6c12.5 12.5 32.8 12.5 45.3 0l128-128c9.2-9.2 11.9-22.9 6.9-34.9s-16.6-19.8-29.6-19.8L32 192c-12.9 0-24.6 7.8-29.6 19.8s-2.2 25.7 6.9 34.9l128 128z\"/></svg>');\n",
       "  }\n",
       "}\n",
       "\n",
       ".channel-names-btn {\n",
       "  padding: 0;\n",
       "  border: none;\n",
       "  background: none;\n",
       "  text-decoration: underline;\n",
       "  text-decoration-style: dashed;\n",
       "  cursor: pointer;\n",
       "  color: #0d6efd;\n",
       "}\n",
       "\n",
       ".channel-names-btn:hover {\n",
       "  color: #0a58ca;\n",
       "}\n",
       "</style>\n",
       "\n",
       "\n",
       "\n",
       "<table class=\"repr table table-hover table-striped table-sm table-responsive small\">\n",
       "    \n",
       "\n",
       "\n",
       "\n",
       "\n",
       "\n",
       "\n",
       "\n",
       "<tr class=\"repr-section-header general-6004a9e1-1e88-427f-a8ee-9b4ae08861f4\"  title=\"Hide section\" \n",
       "    onclick=\"toggleVisibility('general-6004a9e1-1e88-427f-a8ee-9b4ae08861f4')\">\n",
       "    <th class=\"repr-section-toggle-col\">\n",
       "        <button>\n",
       "            \n",
       "            <span class=\"collapse-uncollapse-caret\"></span>\n",
       "        </button>\n",
       "    </th>\n",
       "    <th colspan=\"2\">\n",
       "        <strong>General</strong>\n",
       "    </th>\n",
       "</tr>\n",
       "\n",
       "<tr class=\"repr-element general-6004a9e1-1e88-427f-a8ee-9b4ae08861f4 \">\n",
       "    <td class=\"repr-section-toggle-col\"></td>\n",
       "    <td>Filename(s)</td>\n",
       "    <td>\n",
       "        \n",
       "        PN001-original.edf\n",
       "        \n",
       "        \n",
       "    </td>\n",
       "</tr>\n",
       "\n",
       "<tr class=\"repr-element general-6004a9e1-1e88-427f-a8ee-9b4ae08861f4 \">\n",
       "    <td class=\"repr-section-toggle-col\"></td>\n",
       "    <td>MNE object type</td>\n",
       "    <td>RawEDF</td>\n",
       "</tr>\n",
       "<tr class=\"repr-element general-6004a9e1-1e88-427f-a8ee-9b4ae08861f4 \">\n",
       "    <td class=\"repr-section-toggle-col\"></td>\n",
       "    <td>Measurement date</td>\n",
       "    \n",
       "    <td>2016-01-01 at 19:39:33 UTC</td>\n",
       "    \n",
       "</tr>\n",
       "<tr class=\"repr-element general-6004a9e1-1e88-427f-a8ee-9b4ae08861f4 \">\n",
       "    <td class=\"repr-section-toggle-col\"></td>\n",
       "    <td>Participant</td>\n",
       "    \n",
       "    \n",
       "    <td></td>\n",
       "    \n",
       "    \n",
       "</tr>\n",
       "<tr class=\"repr-element general-6004a9e1-1e88-427f-a8ee-9b4ae08861f4 \">\n",
       "    <td class=\"repr-section-toggle-col\"></td>\n",
       "    <td>Experimenter</td>\n",
       "    \n",
       "    <td>Unknown</td>\n",
       "    \n",
       "</tr>\n",
       "    \n",
       "\n",
       "\n",
       "\n",
       "\n",
       "\n",
       "\n",
       "\n",
       "<tr class=\"repr-section-header acquisition-a7458428-7981-468a-a318-e56c38ee9b8b\" \n",
       "    title=\"Hide section\"  onclick=\"toggleVisibility('acquisition-a7458428-7981-468a-a318-e56c38ee9b8b')\">\n",
       "    <th class=\"repr-section-toggle-col\">\n",
       "        <button>\n",
       "            \n",
       "            <span class=\"collapse-uncollapse-caret\"></span>\n",
       "        </button>\n",
       "    </th>\n",
       "    <th colspan=\"2\">\n",
       "        <strong>Acquisition</strong>\n",
       "    </th>\n",
       "</tr>\n",
       "\n",
       "<tr class=\"repr-element acquisition-a7458428-7981-468a-a318-e56c38ee9b8b \">\n",
       "    <td class=\"repr-section-toggle-col\"></td>\n",
       "    <td>Duration</td>\n",
       "    <td>00:43:45 (HH:MM:SS)</td>\n",
       "</tr>\n",
       "\n",
       "\n",
       "\n",
       "\n",
       "\n",
       "\n",
       "\n",
       "\n",
       "<tr class=\"repr-element acquisition-a7458428-7981-468a-a318-e56c38ee9b8b \">\n",
       "    <td class=\"repr-section-toggle-col\"></td>\n",
       "    <td>Sampling frequency</td>\n",
       "    <td>512.00 Hz</td>\n",
       "</tr>\n",
       "\n",
       "\n",
       "<tr class=\"repr-element acquisition-a7458428-7981-468a-a318-e56c38ee9b8b \">\n",
       "    <td class=\"repr-section-toggle-col\"></td>\n",
       "    <td>Time points</td>\n",
       "    <td>1,344,000</td>\n",
       "</tr>\n",
       "\n",
       "\n",
       "    \n",
       "\n",
       "\n",
       "\n",
       "\n",
       "\n",
       "\n",
       "\n",
       "<tr class=\"repr-section-header channels-deaa5489-729f-4450-ad4f-a2016b74b32f\"  title=\"Hide section\" \n",
       "    onclick=\"toggleVisibility('channels-deaa5489-729f-4450-ad4f-a2016b74b32f')\">\n",
       "    <th class=\"repr-section-toggle-col\">\n",
       "        <button>\n",
       "            \n",
       "            <span class=\"collapse-uncollapse-caret\"></span>\n",
       "        </button>\n",
       "    </th>\n",
       "    <th colspan=\"2\">\n",
       "        <strong>Channels</strong>\n",
       "    </th>\n",
       "</tr>\n",
       "\n",
       "\n",
       "<tr class=\"repr-element channels-deaa5489-729f-4450-ad4f-a2016b74b32f \">\n",
       "    <td class=\"repr-section-toggle-col\"></td>\n",
       "    <td>EEG</td>\n",
       "    <td>\n",
       "        <button class=\"channel-names-btn\" onclick=\"alert('Good EEG:\\n\\nEEG&nbsp;Fp1, EEG&nbsp;F3, EEG&nbsp;C3, EEG&nbsp;P3, EEG&nbsp;O1, EEG&nbsp;F7, EEG&nbsp;T3, EEG&nbsp;T5, EEG&nbsp;Fc1, EEG&nbsp;Fc5, EEG&nbsp;Cp1, EEG&nbsp;Cp5, EEG&nbsp;F9, EEG&nbsp;Fz, EEG&nbsp;Cz, EEG&nbsp;Pz, EEG&nbsp;Fp2, EEG&nbsp;F4, EEG&nbsp;C4, EEG&nbsp;P4, EEG&nbsp;O2, EEG&nbsp;F8, EEG&nbsp;T4, EEG&nbsp;T6, EEG&nbsp;Fc2, EEG&nbsp;Fc6, EEG&nbsp;Cp2, EEG&nbsp;Cp6, EEG&nbsp;F10, EKG&nbsp;EKG, SPO2, HR, 1, 2, MK')\" title=\"(Click to open in popup)&#13;&#13;EEG&nbsp;Fp1, EEG&nbsp;F3, EEG&nbsp;C3, EEG&nbsp;P3, EEG&nbsp;O1, EEG&nbsp;F7, EEG&nbsp;T3, EEG&nbsp;T5, EEG&nbsp;Fc1, EEG&nbsp;Fc5, EEG&nbsp;Cp1, EEG&nbsp;Cp5, EEG&nbsp;F9, EEG&nbsp;Fz, EEG&nbsp;Cz, EEG&nbsp;Pz, EEG&nbsp;Fp2, EEG&nbsp;F4, EEG&nbsp;C4, EEG&nbsp;P4, EEG&nbsp;O2, EEG&nbsp;F8, EEG&nbsp;T4, EEG&nbsp;T6, EEG&nbsp;Fc2, EEG&nbsp;Fc6, EEG&nbsp;Cp2, EEG&nbsp;Cp6, EEG&nbsp;F10, EKG&nbsp;EKG, SPO2, HR, 1, 2, MK\">\n",
       "            35\n",
       "        </button>\n",
       "\n",
       "        \n",
       "    </td>\n",
       "</tr>\n",
       "\n",
       "\n",
       "<tr class=\"repr-element channels-deaa5489-729f-4450-ad4f-a2016b74b32f \">\n",
       "    <td class=\"repr-section-toggle-col\"></td>\n",
       "    <td>Head & sensor digitization</td>\n",
       "    \n",
       "    <td>Not available</td>\n",
       "    \n",
       "</tr>\n",
       "    \n",
       "\n",
       "\n",
       "\n",
       "\n",
       "\n",
       "\n",
       "\n",
       "<tr class=\"repr-section-header filters-6d79d497-f43b-4460-8704-74ca03e627f3\"  title=\"Hide section\" \n",
       "    onclick=\"toggleVisibility('filters-6d79d497-f43b-4460-8704-74ca03e627f3')\">\n",
       "    <th class=\"repr-section-toggle-col\">\n",
       "        <button>\n",
       "            \n",
       "            <span class=\"collapse-uncollapse-caret\"></span>\n",
       "        </button>\n",
       "    </th>\n",
       "    <th colspan=\"2\">\n",
       "        <strong>Filters</strong>\n",
       "    </th>\n",
       "</tr>\n",
       "\n",
       "<tr class=\"repr-element filters-6d79d497-f43b-4460-8704-74ca03e627f3 \">\n",
       "    <td class=\"repr-section-toggle-col\"></td>\n",
       "    <td>Highpass</td>\n",
       "    <td>0.50 Hz</td>\n",
       "</tr>\n",
       "\n",
       "\n",
       "<tr class=\"repr-element filters-6d79d497-f43b-4460-8704-74ca03e627f3 \">\n",
       "    <td class=\"repr-section-toggle-col\"></td>\n",
       "    <td>Lowpass</td>\n",
       "    <td>35.00 Hz</td>\n",
       "</tr>\n",
       "\n",
       "\n",
       "</table>"
      ]
     },
     "execution_count": 10,
     "metadata": {},
     "output_type": "execute_result"
    }
   ],
   "execution_count": 10
  },
  {
   "cell_type": "code",
   "source": [
    "raw.resample(sfreq)"
   ],
   "metadata": {
    "collapsed": false,
    "ExecuteTime": {
     "end_time": "2024-12-15T20:17:39.875221Z",
     "start_time": "2024-12-15T20:17:37.144714Z"
    }
   },
   "id": "3e59d27b26b22845",
   "outputs": [
    {
     "data": {
      "text/plain": [
       "<RawEDF | PN001-original.edf, 35 x 525000 (2625.0 s), ~140.2 MB, data loaded>"
      ],
      "text/html": [
       "<script type=\"text/javascript\">\n",
       "    const toggleVisibility = (className) => {\n",
       "\n",
       "  const elements = document.querySelectorAll(`.${className}`)\n",
       "\n",
       "  elements.forEach(element => {\n",
       "    if (element.classList.contains('repr-section-header')) {\n",
       "      // Don't collapse the section header row.\n",
       "       return\n",
       "    }\n",
       "    if (element.classList.contains('repr-element-collapsed')) {\n",
       "      // Force a reflow to ensure the display change takes effect before removing the class\n",
       "      element.classList.remove('repr-element-collapsed')\n",
       "      element.offsetHeight // This forces the browser to recalculate layout\n",
       "      element.classList.remove('repr-element-faded')\n",
       "    } else {\n",
       "      // Start transition to hide the element\n",
       "      element.classList.add('repr-element-faded')\n",
       "      element.addEventListener('transitionend', handler = (e) => {\n",
       "        if (e.propertyName === 'opacity' && getComputedStyle(element).opacity === '0.2') {\n",
       "          element.classList.add('repr-element-collapsed')\n",
       "          element.removeEventListener('transitionend', handler)\n",
       "        }\n",
       "      });\n",
       "    }\n",
       "  });\n",
       "\n",
       "  // Take care of button (adjust caret)\n",
       "  const button = document.querySelectorAll(`.repr-section-header.${className} > th.repr-section-toggle-col > button`)[0]\n",
       "  button.classList.toggle('collapsed')\n",
       "\n",
       "  // Take care of the tooltip of the section header row\n",
       "  const sectionHeaderRow = document.querySelectorAll(`tr.repr-section-header.${className}`)[0]\n",
       "  sectionHeaderRow.classList.toggle('collapsed')\n",
       "  sectionHeaderRow.title = sectionHeaderRow.title === 'Hide section' ? 'Show section' : 'Hide section'\n",
       "}\n",
       "</script>\n",
       "\n",
       "<style type=\"text/css\">\n",
       "    table.repr.table.table-hover.table-striped.table-sm.table-responsive.small {\n",
       "  /* Don't make rows wider than they need to be. */\n",
       "  display: inline;\n",
       "}\n",
       "\n",
       "table > tbody > tr.repr-element > td {\n",
       "  /* Apply a tighter layout to the table cells. */\n",
       "  padding-top: 0.1rem;\n",
       "  padding-bottom: 0.1rem;\n",
       "  padding-right: 1rem;\n",
       "}\n",
       "\n",
       "table > tbody > tr > td.repr-section-toggle-col {\n",
       "  /* Remove background and border of the first cell in every row\n",
       "     (this row is only used for the collapse / uncollapse caret)\n",
       "\n",
       "     TODO: Need to find a good solution for VS Code that works in both\n",
       "           light and dark mode. */\n",
       "  border-color: transparent;\n",
       "  --bs-table-accent-bg: transparent;\n",
       "}\n",
       "\n",
       "tr.repr-section-header {\n",
       "  /* Remove stripes from section header rows */\n",
       "  background-color: transparent;\n",
       "  border-color: transparent;\n",
       "  --bs-table-striped-bg: transparent;\n",
       "  cursor: pointer;\n",
       "}\n",
       "\n",
       "tr.repr-section-header > th {\n",
       "  text-align: left !important;\n",
       "  vertical-align: middle;\n",
       "}\n",
       "\n",
       ".repr-element, tr.repr-element > td {\n",
       "  opacity: 1;\n",
       "  text-align: left !important;\n",
       "}\n",
       "\n",
       ".repr-element-faded {\n",
       "  transition: 0.3s ease;\n",
       "  opacity: 0.2;\n",
       "}\n",
       "\n",
       ".repr-element-collapsed {\n",
       "  display: none;\n",
       "}\n",
       "\n",
       "/* Collapse / uncollapse button and the caret it contains. */\n",
       ".repr-section-toggle-col button {\n",
       "  cursor: pointer;\n",
       "  width: 1rem;\n",
       "  background-color: transparent;\n",
       "  border-color: transparent;\n",
       "}\n",
       "\n",
       "span.collapse-uncollapse-caret {\n",
       "  width: 1rem;\n",
       "  height: 1rem;\n",
       "  display: block;\n",
       "  background-repeat: no-repeat;\n",
       "  background-position: left;\n",
       "  background-size: contain;\n",
       "}\n",
       "\n",
       "/* The collapse / uncollapse carets were copied from the free Font Awesome collection and adjusted. */\n",
       "\n",
       "/* Default to black carets for light mode */\n",
       ".repr-section-toggle-col > button.collapsed > span.collapse-uncollapse-caret {\n",
       "  background-image: url('data:image/svg+xml;charset=utf8,<svg xmlns=\"http://www.w3.org/2000/svg\" viewBox=\"0 0 256 512\"><!--!Font Awesome Free 6.5.2 by @fontawesome - https://fontawesome.com License - https://fontawesome.com/license/free Copyright 2024 Fonticons, Inc.--><path fill=\"black\" d=\"M246.6 278.6c12.5-12.5 12.5-32.8 0-45.3l-128-128c-9.2-9.2-22.9-11.9-34.9-6.9s-19.8 16.6-19.8 29.6l0 256c0 12.9 7.8 24.6 19.8 29.6s25.7 2.2 34.9-6.9l128-128z\"/></svg>');\n",
       "}\n",
       "\n",
       ".repr-section-toggle-col\n",
       "  > button:not(.collapsed)\n",
       "  > span.collapse-uncollapse-caret {\n",
       "  background-image: url('data:image/svg+xml;charset=utf8,<svg xmlns=\"http://www.w3.org/2000/svg\" viewBox=\"0 0 320 512\"><!--!Font Awesome Free 6.5.2 by @fontawesome - https://fontawesome.com License - https://fontawesome.com/license/free Copyright 2024 Fonticons, Inc.--><path fill=\"black\" d=\"M137.4 374.6c12.5 12.5 32.8 12.5 45.3 0l128-128c9.2-9.2 11.9-22.9 6.9-34.9s-16.6-19.8-29.6-19.8L32 192c-12.9 0-24.6 7.8-29.6 19.8s-2.2 25.7 6.9 34.9l128 128z\"/></svg>');\n",
       "}\n",
       "\n",
       "/* Use white carets for dark mode */\n",
       "@media (prefers-color-scheme: dark) {\n",
       "  .repr-section-toggle-col > button.collapsed > span.collapse-uncollapse-caret {\n",
       "    background-image: url('data:image/svg+xml;charset=utf8,<svg xmlns=\"http://www.w3.org/2000/svg\" viewBox=\"0 0 256 512\"><!--!Font Awesome Free 6.5.2 by @fontawesome - https://fontawesome.com License - https://fontawesome.com/license/free Copyright 2024 Fonticons, Inc.--><path fill=\"white\" d=\"M246.6 278.6c12.5-12.5 12.5-32.8 0-45.3l-128-128c-9.2-9.2-22.9-11.9-34.9-6.9s-19.8 16.6-19.8 29.6l0 256c0 12.9 7.8 24.6 19.8 29.6s25.7 2.2 34.9-6.9l128-128z\"/></svg>');\n",
       "  }\n",
       "\n",
       "  .repr-section-toggle-col\n",
       "    > button:not(.collapsed)\n",
       "    > span.collapse-uncollapse-caret {\n",
       "    background-image: url('data:image/svg+xml;charset=utf8,<svg xmlns=\"http://www.w3.org/2000/svg\" viewBox=\"0 0 320 512\"><!--!Font Awesome Free 6.5.2 by @fontawesome - https://fontawesome.com License - https://fontawesome.com/license/free Copyright 2024 Fonticons, Inc.--><path fill=\"white\" d=\"M137.4 374.6c12.5 12.5 32.8 12.5 45.3 0l128-128c9.2-9.2 11.9-22.9 6.9-34.9s-16.6-19.8-29.6-19.8L32 192c-12.9 0-24.6 7.8-29.6 19.8s-2.2 25.7 6.9 34.9l128 128z\"/></svg>');\n",
       "  }\n",
       "}\n",
       "\n",
       ".channel-names-btn {\n",
       "  padding: 0;\n",
       "  border: none;\n",
       "  background: none;\n",
       "  text-decoration: underline;\n",
       "  text-decoration-style: dashed;\n",
       "  cursor: pointer;\n",
       "  color: #0d6efd;\n",
       "}\n",
       "\n",
       ".channel-names-btn:hover {\n",
       "  color: #0a58ca;\n",
       "}\n",
       "</style>\n",
       "\n",
       "\n",
       "\n",
       "<table class=\"repr table table-hover table-striped table-sm table-responsive small\">\n",
       "    \n",
       "\n",
       "\n",
       "\n",
       "\n",
       "\n",
       "\n",
       "\n",
       "<tr class=\"repr-section-header general-b81785aa-2923-4241-895c-09fe0a32d7ff\"  title=\"Hide section\" \n",
       "    onclick=\"toggleVisibility('general-b81785aa-2923-4241-895c-09fe0a32d7ff')\">\n",
       "    <th class=\"repr-section-toggle-col\">\n",
       "        <button>\n",
       "            \n",
       "            <span class=\"collapse-uncollapse-caret\"></span>\n",
       "        </button>\n",
       "    </th>\n",
       "    <th colspan=\"2\">\n",
       "        <strong>General</strong>\n",
       "    </th>\n",
       "</tr>\n",
       "\n",
       "<tr class=\"repr-element general-b81785aa-2923-4241-895c-09fe0a32d7ff \">\n",
       "    <td class=\"repr-section-toggle-col\"></td>\n",
       "    <td>Filename(s)</td>\n",
       "    <td>\n",
       "        \n",
       "        PN001-original.edf\n",
       "        \n",
       "        \n",
       "    </td>\n",
       "</tr>\n",
       "\n",
       "<tr class=\"repr-element general-b81785aa-2923-4241-895c-09fe0a32d7ff \">\n",
       "    <td class=\"repr-section-toggle-col\"></td>\n",
       "    <td>MNE object type</td>\n",
       "    <td>RawEDF</td>\n",
       "</tr>\n",
       "<tr class=\"repr-element general-b81785aa-2923-4241-895c-09fe0a32d7ff \">\n",
       "    <td class=\"repr-section-toggle-col\"></td>\n",
       "    <td>Measurement date</td>\n",
       "    \n",
       "    <td>2016-01-01 at 19:39:33 UTC</td>\n",
       "    \n",
       "</tr>\n",
       "<tr class=\"repr-element general-b81785aa-2923-4241-895c-09fe0a32d7ff \">\n",
       "    <td class=\"repr-section-toggle-col\"></td>\n",
       "    <td>Participant</td>\n",
       "    \n",
       "    \n",
       "    <td></td>\n",
       "    \n",
       "    \n",
       "</tr>\n",
       "<tr class=\"repr-element general-b81785aa-2923-4241-895c-09fe0a32d7ff \">\n",
       "    <td class=\"repr-section-toggle-col\"></td>\n",
       "    <td>Experimenter</td>\n",
       "    \n",
       "    <td>Unknown</td>\n",
       "    \n",
       "</tr>\n",
       "    \n",
       "\n",
       "\n",
       "\n",
       "\n",
       "\n",
       "\n",
       "\n",
       "<tr class=\"repr-section-header acquisition-6b6b87a9-192b-49dd-abde-c29ce5e77eeb\" \n",
       "    title=\"Hide section\"  onclick=\"toggleVisibility('acquisition-6b6b87a9-192b-49dd-abde-c29ce5e77eeb')\">\n",
       "    <th class=\"repr-section-toggle-col\">\n",
       "        <button>\n",
       "            \n",
       "            <span class=\"collapse-uncollapse-caret\"></span>\n",
       "        </button>\n",
       "    </th>\n",
       "    <th colspan=\"2\">\n",
       "        <strong>Acquisition</strong>\n",
       "    </th>\n",
       "</tr>\n",
       "\n",
       "<tr class=\"repr-element acquisition-6b6b87a9-192b-49dd-abde-c29ce5e77eeb \">\n",
       "    <td class=\"repr-section-toggle-col\"></td>\n",
       "    <td>Duration</td>\n",
       "    <td>00:43:45 (HH:MM:SS)</td>\n",
       "</tr>\n",
       "\n",
       "\n",
       "\n",
       "\n",
       "\n",
       "\n",
       "\n",
       "\n",
       "<tr class=\"repr-element acquisition-6b6b87a9-192b-49dd-abde-c29ce5e77eeb \">\n",
       "    <td class=\"repr-section-toggle-col\"></td>\n",
       "    <td>Sampling frequency</td>\n",
       "    <td>200.00 Hz</td>\n",
       "</tr>\n",
       "\n",
       "\n",
       "<tr class=\"repr-element acquisition-6b6b87a9-192b-49dd-abde-c29ce5e77eeb \">\n",
       "    <td class=\"repr-section-toggle-col\"></td>\n",
       "    <td>Time points</td>\n",
       "    <td>525,000</td>\n",
       "</tr>\n",
       "\n",
       "\n",
       "    \n",
       "\n",
       "\n",
       "\n",
       "\n",
       "\n",
       "\n",
       "\n",
       "<tr class=\"repr-section-header channels-651c559a-05c7-4d5e-86b2-d46ed959e872\"  title=\"Hide section\" \n",
       "    onclick=\"toggleVisibility('channels-651c559a-05c7-4d5e-86b2-d46ed959e872')\">\n",
       "    <th class=\"repr-section-toggle-col\">\n",
       "        <button>\n",
       "            \n",
       "            <span class=\"collapse-uncollapse-caret\"></span>\n",
       "        </button>\n",
       "    </th>\n",
       "    <th colspan=\"2\">\n",
       "        <strong>Channels</strong>\n",
       "    </th>\n",
       "</tr>\n",
       "\n",
       "\n",
       "<tr class=\"repr-element channels-651c559a-05c7-4d5e-86b2-d46ed959e872 \">\n",
       "    <td class=\"repr-section-toggle-col\"></td>\n",
       "    <td>EEG</td>\n",
       "    <td>\n",
       "        <button class=\"channel-names-btn\" onclick=\"alert('Good EEG:\\n\\nEEG&nbsp;Fp1, EEG&nbsp;F3, EEG&nbsp;C3, EEG&nbsp;P3, EEG&nbsp;O1, EEG&nbsp;F7, EEG&nbsp;T3, EEG&nbsp;T5, EEG&nbsp;Fc1, EEG&nbsp;Fc5, EEG&nbsp;Cp1, EEG&nbsp;Cp5, EEG&nbsp;F9, EEG&nbsp;Fz, EEG&nbsp;Cz, EEG&nbsp;Pz, EEG&nbsp;Fp2, EEG&nbsp;F4, EEG&nbsp;C4, EEG&nbsp;P4, EEG&nbsp;O2, EEG&nbsp;F8, EEG&nbsp;T4, EEG&nbsp;T6, EEG&nbsp;Fc2, EEG&nbsp;Fc6, EEG&nbsp;Cp2, EEG&nbsp;Cp6, EEG&nbsp;F10, EKG&nbsp;EKG, SPO2, HR, 1, 2, MK')\" title=\"(Click to open in popup)&#13;&#13;EEG&nbsp;Fp1, EEG&nbsp;F3, EEG&nbsp;C3, EEG&nbsp;P3, EEG&nbsp;O1, EEG&nbsp;F7, EEG&nbsp;T3, EEG&nbsp;T5, EEG&nbsp;Fc1, EEG&nbsp;Fc5, EEG&nbsp;Cp1, EEG&nbsp;Cp5, EEG&nbsp;F9, EEG&nbsp;Fz, EEG&nbsp;Cz, EEG&nbsp;Pz, EEG&nbsp;Fp2, EEG&nbsp;F4, EEG&nbsp;C4, EEG&nbsp;P4, EEG&nbsp;O2, EEG&nbsp;F8, EEG&nbsp;T4, EEG&nbsp;T6, EEG&nbsp;Fc2, EEG&nbsp;Fc6, EEG&nbsp;Cp2, EEG&nbsp;Cp6, EEG&nbsp;F10, EKG&nbsp;EKG, SPO2, HR, 1, 2, MK\">\n",
       "            35\n",
       "        </button>\n",
       "\n",
       "        \n",
       "    </td>\n",
       "</tr>\n",
       "\n",
       "\n",
       "<tr class=\"repr-element channels-651c559a-05c7-4d5e-86b2-d46ed959e872 \">\n",
       "    <td class=\"repr-section-toggle-col\"></td>\n",
       "    <td>Head & sensor digitization</td>\n",
       "    \n",
       "    <td>Not available</td>\n",
       "    \n",
       "</tr>\n",
       "    \n",
       "\n",
       "\n",
       "\n",
       "\n",
       "\n",
       "\n",
       "\n",
       "<tr class=\"repr-section-header filters-e7437422-c162-477d-8a5d-200099f0f2ce\"  title=\"Hide section\" \n",
       "    onclick=\"toggleVisibility('filters-e7437422-c162-477d-8a5d-200099f0f2ce')\">\n",
       "    <th class=\"repr-section-toggle-col\">\n",
       "        <button>\n",
       "            \n",
       "            <span class=\"collapse-uncollapse-caret\"></span>\n",
       "        </button>\n",
       "    </th>\n",
       "    <th colspan=\"2\">\n",
       "        <strong>Filters</strong>\n",
       "    </th>\n",
       "</tr>\n",
       "\n",
       "<tr class=\"repr-element filters-e7437422-c162-477d-8a5d-200099f0f2ce \">\n",
       "    <td class=\"repr-section-toggle-col\"></td>\n",
       "    <td>Highpass</td>\n",
       "    <td>0.50 Hz</td>\n",
       "</tr>\n",
       "\n",
       "\n",
       "<tr class=\"repr-element filters-e7437422-c162-477d-8a5d-200099f0f2ce \">\n",
       "    <td class=\"repr-section-toggle-col\"></td>\n",
       "    <td>Lowpass</td>\n",
       "    <td>35.00 Hz</td>\n",
       "</tr>\n",
       "\n",
       "\n",
       "</table>"
      ]
     },
     "execution_count": 11,
     "metadata": {},
     "output_type": "execute_result"
    }
   ],
   "execution_count": 11
  },
  {
   "cell_type": "code",
   "source": [
    "raw.compute_psd(fmax=40, remove_dc=False, picks='eeg').plot(average='mean')"
   ],
   "metadata": {
    "collapsed": false,
    "ExecuteTime": {
     "end_time": "2024-12-15T20:17:40.414193Z",
     "start_time": "2024-12-15T20:17:39.921874Z"
    }
   },
   "id": "a232fdfdfa7bf1c2",
   "outputs": [
    {
     "name": "stderr",
     "output_type": "stream",
     "text": [
      "/tmp/ipykernel_29825/1798295082.py:1: UserWarning: Zero value in spectrum for channels SPO2, HR\n",
      "  raw.compute_psd(fmax=40, remove_dc=False, picks='eeg').plot(average='mean')\n",
      "/tmp/ipykernel_29825/1798295082.py:1: UserWarning: Infinite value in PSD for channels SPO2, HR.\n",
      "These channels might be dead.\n",
      "  raw.compute_psd(fmax=40, remove_dc=False, picks='eeg').plot(average='mean')\n",
      "/home/soenkevanloh/Documents/EEGAnalyzer/.venv/lib/python3.12/site-packages/mne/viz/utils.py:158: UserWarning: FigureCanvasAgg is non-interactive, and thus cannot be shown\n",
      "  (fig or plt).show(**kwargs)\n"
     ]
    },
    {
     "data": {
      "text/plain": [
       "<MNELineFigure size 1000x350 with 1 Axes>"
      ],
      "image/png": "[encoded data removed]"
     },
     "execution_count": 12,
     "metadata": {},
     "output_type": "execute_result"
    }
   ],
   "execution_count": 12
  },
  {
   "cell_type": "code",
   "source": "raw.plot(duration=20, remove_dc=False, block=True, show_options=True)",
   "metadata": {
    "collapsed": false,
    "ExecuteTime": {
     "end_time": "2024-12-15T20:17:58.258218Z",
     "start_time": "2024-12-15T20:17:40.423812Z"
    }
   },
   "id": "292588c43ccb2915",
   "outputs": [
    {
     "data": {
      "text/plain": [
       "<mne_qt_browser._pg_figure.MNEQtBrowser at 0x7638c9ac74d0>"
      ]
     },
     "execution_count": 13,
     "metadata": {},
     "output_type": "execute_result"
    }
   ],
   "execution_count": 13
  },
  {
   "cell_type": "code",
   "source": [
    "print(raw.info)"
   ],
   "metadata": {
    "collapsed": false,
    "ExecuteTime": {
     "end_time": "2024-12-15T20:17:58.310997Z",
     "start_time": "2024-12-15T20:17:58.307728Z"
    }
   },
   "id": "251969320b007521",
   "outputs": [
    {
     "name": "stdout",
     "output_type": "stream",
     "text": [
      "<Info | 8 non-empty values\n",
      " bads: []\n",
      " ch_names: EEG Fp1, EEG F3, EEG C3, EEG P3, EEG O1, EEG F7, EEG T3, EEG T5, ...\n",
      " chs: 35 EEG\n",
      " custom_ref_applied: False\n",
      " highpass: 0.5 Hz\n",
      " lowpass: 35.0 Hz\n",
      " meas_date: 2016-01-01 19:39:33 UTC\n",
      " nchan: 35\n",
      " projs: []\n",
      " sfreq: 200.0 Hz\n",
      " subject_info: 1 item (dict)\n",
      ">\n"
     ]
    }
   ],
   "execution_count": 14
  },
  {
   "cell_type": "markdown",
   "source": [
    "## Check different montages"
   ],
   "metadata": {
    "collapsed": false
   },
   "id": "dd6161f497f6d2d2"
  },
  {
   "cell_type": "code",
   "source": [
    "raw_remontaged = raw.copy()\n",
    "print(f'Allready bypolar montage: {only_keep_10_20_channels_and_check_bipolar(raw_remontaged)}')\n",
    "raw_remontaged = change_montage(raw=raw_remontaged.pick(picks='eeg', exclude='bads'), montage='doublebanana')"
   ],
   "metadata": {
    "collapsed": false,
    "ExecuteTime": {
     "end_time": "2024-12-15T20:17:59.351797Z",
     "start_time": "2024-12-15T20:17:58.358144Z"
    }
   },
   "id": "b499b90dc014bf0e",
   "outputs": [
    {
     "name": "stdout",
     "output_type": "stream",
     "text": [
      "Allready bypolar montage: False\n"
     ]
    },
    {
     "name": "stderr",
     "output_type": "stream",
     "text": [
      "ic| mne.set_bipolar_reference(inst=raw_internal, anode=anode_eeg_channels, cathode=cathode_eeg_channels,\n",
      "                              ch_name=new_names, copy=False): <RawEDF | PN001-original.edf, 18 x 525000 (2625.0 s), ~72.1 MB, data loaded>\n"
     ]
    }
   ],
   "execution_count": 15
  },
  {
   "metadata": {
    "ExecuteTime": {
     "end_time": "2024-12-15T20:17:59.401389Z",
     "start_time": "2024-12-15T20:17:59.398623Z"
    }
   },
   "cell_type": "code",
   "source": "print(raw_remontaged.info)",
   "id": "f26572d54b8af112",
   "outputs": [
    {
     "name": "stdout",
     "output_type": "stream",
     "text": [
      "<Info | 10 non-empty values\n",
      " bads: []\n",
      " ch_names: Fp2-F8, F8-T4, T4-T6, T6-O2, Fp2-F4, F4-C4, C4-P4, P4-O2, Fz-Cz, ...\n",
      " chs: 18 EEG\n",
      " custom_ref_applied: True\n",
      " dig: 0 items\n",
      " highpass: 0.5 Hz\n",
      " lowpass: 35.0 Hz\n",
      " meas_date: 2016-01-01 19:39:33 UTC\n",
      " nchan: 18\n",
      " projs: []\n",
      " sfreq: 200.0 Hz\n",
      " subject_info: 1 item (dict)\n",
      ">\n"
     ]
    }
   ],
   "execution_count": 16
  },
  {
   "cell_type": "code",
   "source": "raw_remontaged.plot(duration=20, remove_dc=False, block=True, show_options=True)",
   "metadata": {
    "collapsed": false,
    "ExecuteTime": {
     "end_time": "2024-12-15T20:18:43.748463Z",
     "start_time": "2024-12-15T20:17:59.447726Z"
    }
   },
   "id": "b7f7ae60f3f54c7c",
   "outputs": [
    {
     "data": {
      "text/plain": [
       "<mne_qt_browser._pg_figure.MNEQtBrowser at 0x7638c9ad2cb0>"
      ]
     },
     "execution_count": 17,
     "metadata": {},
     "output_type": "execute_result"
    }
   ],
   "execution_count": 17
  },
  {
   "metadata": {},
   "cell_type": "markdown",
   "source": "# Save Data",
   "id": "1d7b954aa577972f"
  },
  {
   "metadata": {
    "ExecuteTime": {
     "end_time": "2024-12-15T20:18:44.073448Z",
     "start_time": "2024-12-15T20:18:43.759412Z"
    }
   },
   "cell_type": "code",
   "source": "raw.save(out_path, overwrite=False)",
   "id": "4b8aa4077cf80dfa",
   "outputs": [],
   "execution_count": 18
  }
 ],
 "metadata": {
  "kernelspec": {
   "display_name": "Python 3",
   "language": "python",
   "name": "python3"
  },
  "language_info": {
   "codemirror_mode": {
    "name": "ipython",
    "version": 2
   },
   "file_extension": ".py",
   "mimetype": "text/x-python",
   "name": "python",
   "nbconvert_exporter": "python",
   "pygments_lexer": "ipython2",
   "version": "2.7.6"
  }
 },
 "nbformat": 4,
 "nbformat_minor": 5
}
