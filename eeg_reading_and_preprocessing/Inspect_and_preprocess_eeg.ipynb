{
 "cells": [
  {
   "cell_type": "markdown",
   "source": [
    "# Preprocessing steps for an EEG\n",
    "- Load the data\n",
    "- Print information about the data\n",
    "- load the annotations using scripts from suzanne in matlab via matlab engine\n",
    "- add the annotations to the file\n",
    "- check the file visually ('bad' annotations can be added here for artifacts)\n",
    "- check the psd of the eeg channels\n",
    "- filter between 0.5 and 35 hz\n",
    "- resample to 100hz sampling freq\n",
    "- recheck psd and data\n",
    "- save file to fif format"
   ],
   "metadata": {
    "collapsed": false
   },
   "id": "716d0a824b85f96f"
  },
  {
   "cell_type": "markdown",
   "source": [
    "## Set up environment"
   ],
   "metadata": {
    "collapsed": false
   },
   "id": "da8df70545b9cf35"
  },
  {
   "cell_type": "code",
   "source": "from PreprocessingFunctions import *",
   "metadata": {
    "collapsed": false,
    "ExecuteTime": {
     "end_time": "2024-09-18T12:55:26.275988Z",
     "start_time": "2024-09-18T12:55:26.272078Z"
    }
   },
   "id": "7cd44f7f323c452d",
   "outputs": [],
   "execution_count": 35
  },
  {
   "cell_type": "code",
   "source": [
    "mne.set_config('MNE_BROWSER_BACKEND', 'qt')\n",
    "# if error on linux see the following link: https://web.stanford.edu/dept/cs_edu/resources/qt/install-linux"
   ],
   "metadata": {
    "collapsed": false,
    "ExecuteTime": {
     "end_time": "2024-09-18T12:55:26.480806Z",
     "start_time": "2024-09-18T12:55:26.477223Z"
    }
   },
   "id": "7a27cbf8484cc4a9",
   "outputs": [],
   "execution_count": 36
  },
  {
   "cell_type": "code",
   "source": [
    "mne.set_log_level(verbose='WARNING')"
   ],
   "metadata": {
    "collapsed": false,
    "ExecuteTime": {
     "end_time": "2024-09-18T12:55:26.535400Z",
     "start_time": "2024-09-18T12:55:26.532804Z"
    }
   },
   "id": "f170f01ee4a77e35",
   "outputs": [],
   "execution_count": 37
  },
  {
   "cell_type": "markdown",
   "source": [
    "## Load data"
   ],
   "metadata": {
    "collapsed": false
   },
   "id": "e104eebb2b63fdda"
  },
  {
   "cell_type": "code",
   "source": [
    "sampleSignalPath = '/path/to/edf/sample.edf'\n",
    "annot_path = sampleSignalPath.replace('original.edf', 'annot-sz.mat')  # works only if there is allready an existing annotation\n",
    "out_path = sampleSignalPath.replace('original.edf', 'preprocessed-raw.fif')\n",
    "raw = mne.io.read_raw(sampleSignalPath)"
   ],
   "metadata": {
    "collapsed": false,
    "ExecuteTime": {
     "end_time": "2024-09-18T12:55:26.559293Z",
     "start_time": "2024-09-18T12:55:26.556122Z"
    }
   },
   "id": "5571d6c052faa986",
   "outputs": [],
   "execution_count": 38
  },
  {
   "cell_type": "code",
   "source": [
    "raw = raw.pick_types(eeg=True)\n",
    "print(raw)\n",
    "print(raw.info)\n",
    "print(raw.ch_names)\n",
    "print(raw.info['subject_info'])"
   ],
   "metadata": {
    "collapsed": false,
    "ExecuteTime": {
     "end_time": "2024-09-18T12:55:27.639062Z",
     "start_time": "2024-09-18T12:55:27.632446Z"
    }
   },
   "id": "941def8c59e22f0e",
   "outputs": [
    {
     "name": "stdout",
     "output_type": "stream",
     "text": [
      "<RawEDF | sub-021_task-Absence_preprocessed-raw.edf, 24 x 121000 (1210.0 s), ~24 kB, data not loaded>\n",
      "<Info | 8 non-empty values\n",
      " bads: []\n",
      " ch_names: EEG Fp2-Ref1, EEG Fp1-Ref1, EEG F8-Ref1, EEG F7-Ref1, EEG ...\n",
      " chs: 24 EEG\n",
      " custom_ref_applied: False\n",
      " highpass: 0.5 Hz\n",
      " lowpass: 35.0 Hz\n",
      " meas_date: 2010-09-08 14:13:54 UTC\n",
      " nchan: 24\n",
      " projs: []\n",
      " sfreq: 100.0 Hz\n",
      " subject_info: 4 items (dict)\n",
      ">\n",
      "['EEG Fp2-Ref1', 'EEG Fp1-Ref1', 'EEG F8-Ref1', 'EEG F7-Ref1', 'EEG F4-Ref1', 'EEG F3-Ref1', 'EEG T4-Ref1', 'EEG T3-Ref1', 'EEG C4-Ref1', 'EEG C3-Ref1', 'EEG T6-Ref1', 'EEG T5-Ref1', 'EEG P4-Ref1', 'EEG P3-Ref1', 'EEG O2-Ref1', 'EEG O1-Ref1', 'EEG Fz-Ref1', 'EEG Cz-Ref1', 'EEG Pz-Ref1', 'EEG A2-Ref1', 'EEG A1-Ref1', 'EEG Cb2-Ref2', 'In1-Ref3', 'EEG Res-Ref4']\n",
      "{'his_id': 'X', 'sex': 0, 'last_name': 'X', 'birthday': (2005, 2, 1)}\n"
     ]
    }
   ],
   "execution_count": 45
  },
  {
   "cell_type": "markdown",
   "source": [
    "## Extract info about data"
   ],
   "metadata": {
    "collapsed": false
   },
   "id": "4b78879c5e102c48"
  },
  {
   "cell_type": "code",
   "source": [
    "raw = update_annotations_suzanne(raw, annot_path, sampleSignalPath, method='replace')\n",
    "# be aware that this needs to have matlab set up with the script accessible otherwise it will fail, also needs matlab engine for python to work"
   ],
   "metadata": {
    "collapsed": false,
    "ExecuteTime": {
     "end_time": "2024-09-18T12:55:27.659155Z",
     "start_time": "2024-09-18T12:55:27.656465Z"
    }
   },
   "id": "6307933ac9d56441",
   "outputs": [],
   "execution_count": 49
  },
  {
   "cell_type": "markdown",
   "source": [
    "## First visual inspection of the data"
   ],
   "metadata": {
    "collapsed": false
   },
   "id": "62f18301f94c91cb"
  },
  {
   "cell_type": "code",
   "source": "raw.plot(duration=20, remove_dc=False, block=True, show_options=True)",
   "metadata": {
    "collapsed": false,
    "ExecuteTime": {
     "end_time": "2024-09-18T12:55:27.668198Z",
     "start_time": "2024-09-18T12:55:27.665657Z"
    }
   },
   "id": "e990c77325597cbf",
   "outputs": [],
   "execution_count": 51
  },
  {
   "cell_type": "code",
   "source": "raw.compute_psd(fmax=70, remove_dc=False).plot(average='mean', picks='eeg')",
   "metadata": {
    "collapsed": false,
    "ExecuteTime": {
     "end_time": "2024-09-18T12:55:27.672562Z",
     "start_time": "2024-09-18T12:55:27.669522Z"
    }
   },
   "id": "742c55b371c34669",
   "outputs": [],
   "execution_count": 52
  },
  {
   "cell_type": "markdown",
   "source": [
    "## Load the data and filter it"
   ],
   "metadata": {
    "collapsed": false
   },
   "id": "6db02281e86332ca"
  },
  {
   "cell_type": "code",
   "source": [
    "l_freq = 0.5 #if should not be changed use raw.info['highpass']\n",
    "h_freq = 35 #if should not be changed use raw.info['lowpass']\n",
    "sfreq = 100 #if should not be changed use raw.info['sfreq']"
   ],
   "metadata": {
    "collapsed": false,
    "ExecuteTime": {
     "end_time": "2024-09-18T12:55:27.676649Z",
     "start_time": "2024-09-18T12:55:27.674114Z"
    }
   },
   "id": "14da3cf14b2fc850",
   "outputs": [],
   "execution_count": 53
  },
  {
   "cell_type": "code",
   "source": [
    "raw_unfiltered = raw.copy()\n",
    "raw.load_data()\n",
    "raw.filter(l_freq=l_freq,h_freq=h_freq)"
   ],
   "metadata": {
    "collapsed": false,
    "ExecuteTime": {
     "end_time": "2024-09-18T12:55:27.821753Z",
     "start_time": "2024-09-18T12:55:27.678042Z"
    }
   },
   "id": "211f75e758ddd4ae",
   "outputs": [
    {
     "data": {
      "text/plain": [
       "<RawEDF | sub-021_task-Absence_preprocessed-raw.edf, 24 x 121000 (1210.0 s), ~22.2 MB, data loaded>"
      ],
      "text/html": [
       "<details open>\n",
       "    <summary><strong>General</strong></summary>\n",
       "    <table class=\"table table-hover table-striped table-sm table-responsive small\">\n",
       "        <tr>\n",
       "            <th>Measurement date</th>\n",
       "            \n",
       "            <td>September 08, 2010  14:13:54 GMT</td>\n",
       "            \n",
       "        </tr>\n",
       "        <tr>\n",
       "            <th>Experimenter</th>\n",
       "            \n",
       "            <td>Unknown</td>\n",
       "            \n",
       "        </tr>\n",
       "        <tr>\n",
       "            <th>Participant</th>\n",
       "            \n",
       "            \n",
       "            <td>X</td>\n",
       "            \n",
       "            \n",
       "        </tr>\n",
       "    </table>\n",
       "    </details>\n",
       "    <details open>\n",
       "        <summary><strong>Channels</strong></summary>\n",
       "        <table class=\"table table-hover table-striped table-sm table-responsive small\">\n",
       "            <tr>\n",
       "                <th>Digitized points</th>\n",
       "                \n",
       "                <td>Not available</td>\n",
       "                \n",
       "            </tr>\n",
       "            <tr>\n",
       "                <th>Good channels</th>\n",
       "                <td>24 EEG</td>\n",
       "            </tr>\n",
       "            <tr>\n",
       "                <th>Bad channels</th>\n",
       "                <td>None</td>\n",
       "            </tr>\n",
       "            <tr>\n",
       "                <th>EOG channels</th>\n",
       "                <td>Not available</td>\n",
       "            </tr>\n",
       "            <tr>\n",
       "                <th>ECG channels</th>\n",
       "                <td>Not available</td>\n",
       "            </tr>\n",
       "        </table>\n",
       "        </details>\n",
       "        <details open>\n",
       "            <summary><strong>Data</strong></summary>\n",
       "            <table class=\"table table-hover table-striped table-sm table-responsive small\">\n",
       "                \n",
       "                <tr>\n",
       "                    <th>Sampling frequency</th>\n",
       "                    <td>100.00 Hz</td>\n",
       "                </tr>\n",
       "                \n",
       "                \n",
       "                <tr>\n",
       "                    <th>Highpass</th>\n",
       "                    <td>0.50 Hz</td>\n",
       "                </tr>\n",
       "                \n",
       "                \n",
       "                <tr>\n",
       "                    <th>Lowpass</th>\n",
       "                    <td>35.00 Hz</td>\n",
       "                </tr>\n",
       "                \n",
       "                \n",
       "                \n",
       "                <tr>\n",
       "                    <th>Filenames</th>\n",
       "                    <td>sub-021_task-Absence_preprocessed-raw.edf</td>\n",
       "                </tr>\n",
       "                \n",
       "                \n",
       "                <tr>\n",
       "                    <th>Duration</th>\n",
       "                    <td>00:20:10 (HH:MM:SS)</td>\n",
       "                </tr>\n",
       "                \n",
       "            </table>\n",
       "            </details>"
      ]
     },
     "execution_count": 54,
     "metadata": {},
     "output_type": "execute_result"
    }
   ],
   "execution_count": 54
  },
  {
   "cell_type": "code",
   "source": [
    "raw.resample(sfreq)"
   ],
   "metadata": {
    "collapsed": false,
    "ExecuteTime": {
     "end_time": "2024-09-18T12:55:27.831396Z",
     "start_time": "2024-09-18T12:55:27.826072Z"
    }
   },
   "id": "3e59d27b26b22845",
   "outputs": [
    {
     "data": {
      "text/plain": [
       "<RawEDF | sub-021_task-Absence_preprocessed-raw.edf, 24 x 121000 (1210.0 s), ~22.2 MB, data loaded>"
      ],
      "text/html": [
       "<details open>\n",
       "    <summary><strong>General</strong></summary>\n",
       "    <table class=\"table table-hover table-striped table-sm table-responsive small\">\n",
       "        <tr>\n",
       "            <th>Measurement date</th>\n",
       "            \n",
       "            <td>September 08, 2010  14:13:54 GMT</td>\n",
       "            \n",
       "        </tr>\n",
       "        <tr>\n",
       "            <th>Experimenter</th>\n",
       "            \n",
       "            <td>Unknown</td>\n",
       "            \n",
       "        </tr>\n",
       "        <tr>\n",
       "            <th>Participant</th>\n",
       "            \n",
       "            \n",
       "            <td>X</td>\n",
       "            \n",
       "            \n",
       "        </tr>\n",
       "    </table>\n",
       "    </details>\n",
       "    <details open>\n",
       "        <summary><strong>Channels</strong></summary>\n",
       "        <table class=\"table table-hover table-striped table-sm table-responsive small\">\n",
       "            <tr>\n",
       "                <th>Digitized points</th>\n",
       "                \n",
       "                <td>Not available</td>\n",
       "                \n",
       "            </tr>\n",
       "            <tr>\n",
       "                <th>Good channels</th>\n",
       "                <td>24 EEG</td>\n",
       "            </tr>\n",
       "            <tr>\n",
       "                <th>Bad channels</th>\n",
       "                <td>None</td>\n",
       "            </tr>\n",
       "            <tr>\n",
       "                <th>EOG channels</th>\n",
       "                <td>Not available</td>\n",
       "            </tr>\n",
       "            <tr>\n",
       "                <th>ECG channels</th>\n",
       "                <td>Not available</td>\n",
       "            </tr>\n",
       "        </table>\n",
       "        </details>\n",
       "        <details open>\n",
       "            <summary><strong>Data</strong></summary>\n",
       "            <table class=\"table table-hover table-striped table-sm table-responsive small\">\n",
       "                \n",
       "                <tr>\n",
       "                    <th>Sampling frequency</th>\n",
       "                    <td>100.00 Hz</td>\n",
       "                </tr>\n",
       "                \n",
       "                \n",
       "                <tr>\n",
       "                    <th>Highpass</th>\n",
       "                    <td>0.50 Hz</td>\n",
       "                </tr>\n",
       "                \n",
       "                \n",
       "                <tr>\n",
       "                    <th>Lowpass</th>\n",
       "                    <td>35.00 Hz</td>\n",
       "                </tr>\n",
       "                \n",
       "                \n",
       "                \n",
       "                <tr>\n",
       "                    <th>Filenames</th>\n",
       "                    <td>sub-021_task-Absence_preprocessed-raw.edf</td>\n",
       "                </tr>\n",
       "                \n",
       "                \n",
       "                <tr>\n",
       "                    <th>Duration</th>\n",
       "                    <td>00:20:10 (HH:MM:SS)</td>\n",
       "                </tr>\n",
       "                \n",
       "            </table>\n",
       "            </details>"
      ]
     },
     "execution_count": 55,
     "metadata": {},
     "output_type": "execute_result"
    }
   ],
   "execution_count": 55
  },
  {
   "cell_type": "code",
   "source": [
    "raw.compute_psd(fmax=40, remove_dc=False, picks='eeg').plot(average='mean')"
   ],
   "metadata": {
    "collapsed": false,
    "ExecuteTime": {
     "end_time": "2024-09-18T12:55:28.153420Z",
     "start_time": "2024-09-18T12:55:27.833234Z"
    }
   },
   "id": "a232fdfdfa7bf1c2",
   "outputs": [
    {
     "name": "stderr",
     "output_type": "stream",
     "text": [
      "/home/soenke/Thesis/Thesis_code/.venv/lib/python3.11/site-packages/mne/viz/utils.py:165: UserWarning: FigureCanvasAgg is non-interactive, and thus cannot be shown\n",
      "  (fig or plt).show(**kwargs)\n"
     ]
    },
    {
     "data": {
      "text/plain": [
       "<MNELineFigure size 1000x350 with 1 Axes>"
      ],
      "image/png": "[encoded data removed]"
     },
     "execution_count": 56,
     "metadata": {},
     "output_type": "execute_result"
    }
   ],
   "execution_count": 56
  },
  {
   "cell_type": "code",
   "source": "raw.plot(duration=20, remove_dc=False, block=True, show_options=True)",
   "metadata": {
    "collapsed": false,
    "ExecuteTime": {
     "end_time": "2024-09-18T12:55:28.156882Z",
     "start_time": "2024-09-18T12:55:28.154490Z"
    }
   },
   "id": "292588c43ccb2915",
   "outputs": [],
   "execution_count": 57
  },
  {
   "cell_type": "code",
   "source": [
    "print(raw.info)"
   ],
   "metadata": {
    "collapsed": false,
    "ExecuteTime": {
     "end_time": "2024-09-18T12:55:28.169609Z",
     "start_time": "2024-09-18T12:55:28.157868Z"
    }
   },
   "id": "251969320b007521",
   "outputs": [
    {
     "name": "stdout",
     "output_type": "stream",
     "text": [
      "<Info | 8 non-empty values\n",
      " bads: []\n",
      " ch_names: EEG Fp2-Ref1, EEG Fp1-Ref1, EEG F8-Ref1, EEG F7-Ref1, EEG ...\n",
      " chs: 24 EEG\n",
      " custom_ref_applied: False\n",
      " highpass: 0.5 Hz\n",
      " lowpass: 35.0 Hz\n",
      " meas_date: 2010-09-08 14:13:54 UTC\n",
      " nchan: 24\n",
      " projs: []\n",
      " sfreq: 100.0 Hz\n",
      " subject_info: 4 items (dict)\n",
      ">\n"
     ]
    }
   ],
   "execution_count": 58
  },
  {
   "cell_type": "markdown",
   "source": [
    "## Check different montages"
   ],
   "metadata": {
    "collapsed": false
   },
   "id": "dd6161f497f6d2d2"
  },
  {
   "cell_type": "code",
   "source": [
    "raw_remontaged = raw.copy()\n",
    "print(f'Allready bypolar montage: {only_keep_10_20_channels_and_check_bipolar(raw_remontaged)}')\n",
    "raw_remontaged = change_montage(raw=raw_remontaged.pick(picks='eeg', exclude='bads'), montage='doublebanana')"
   ],
   "metadata": {
    "collapsed": false,
    "ExecuteTime": {
     "end_time": "2024-09-18T12:55:28.321635Z",
     "start_time": "2024-09-18T12:55:28.191292Z"
    }
   },
   "id": "b499b90dc014bf0e",
   "outputs": [
    {
     "name": "stderr",
     "output_type": "stream",
     "text": [
      "ic| mne.set_bipolar_reference(inst=raw_internal, anode=anode_eeg_channels, cathode=cathode_eeg_channels,\n",
      "                              ch_name=new_names, copy=False): <RawEDF | sub-021_task-Absence_preprocessed-raw.edf, 20 x 121000 (1210.0 s), ~18.5 MB, data loaded>\n"
     ]
    },
    {
     "name": "stdout",
     "output_type": "stream",
     "text": [
      "Allready bypolar montage: False\n"
     ]
    }
   ],
   "execution_count": 65
  },
  {
   "metadata": {},
   "cell_type": "code",
   "source": "print(raw_remontaged.info)",
   "id": "f26572d54b8af112",
   "outputs": [
    {
     "name": "stdout",
     "output_type": "stream",
     "text": [
      "<Info | 10 non-empty values\n",
      " bads: []\n",
      " ch_names: In1-Ref3, EEG Res-Ref4, Fp2-F8, F8-T4, T4-T6, T6-O2, Fp2-F4, ...\n",
      " chs: 20 EEG\n",
      " custom_ref_applied: True\n",
      " dig: 0 items\n",
      " highpass: 0.5 Hz\n",
      " lowpass: 35.0 Hz\n",
      " meas_date: 2010-09-08 14:13:54 UTC\n",
      " nchan: 20\n",
      " projs: []\n",
      " sfreq: 100.0 Hz\n",
      " subject_info: 4 items (dict)\n",
      ">\n"
     ]
    }
   ],
   "execution_count": 66
  },
  {
   "cell_type": "code",
   "source": "raw_remontaged.plot(duration=20, remove_dc=False, block=True, show_options=True)",
   "metadata": {
    "collapsed": false,
    "ExecuteTime": {
     "end_time": "2024-09-18T12:55:35.654138Z",
     "start_time": "2024-09-18T12:55:28.329364Z"
    }
   },
   "id": "b7f7ae60f3f54c7c",
   "outputs": [
    {
     "data": {
      "text/plain": [
       "<mne_qt_browser._pg_figure.MNEQtBrowser at 0x7bae9c7fb910>"
      ]
     },
     "execution_count": 67,
     "metadata": {},
     "output_type": "execute_result"
    }
   ],
   "execution_count": 67
  },
  {
   "metadata": {},
   "cell_type": "markdown",
   "source": "# Save Data",
   "id": "1d7b954aa577972f"
  },
  {
   "metadata": {
    "ExecuteTime": {
     "end_time": "2024-09-18T12:55:35.868965Z",
     "start_time": "2024-09-18T12:55:35.659240Z"
    }
   },
   "cell_type": "code",
   "source": "raw.save(out_path, overwrite=False)",
   "id": "4b8aa4077cf80dfa",
   "outputs": [
    {
     "ename": "OSError",
     "evalue": "The filename (/media/soenke/7FDD-F716/Thesis/Data/Absence_newAnnot_BIDS/sub-021/eeg/sub-021_task-Absence_preprocessed-raw.edf) for file type raw must end with .fif or .fif.gz",
     "output_type": "error",
     "traceback": [
      "\u001B[0;31m---------------------------------------------------------------------------\u001B[0m",
      "\u001B[0;31mOSError\u001B[0m                                   Traceback (most recent call last)",
      "Cell \u001B[0;32mIn[68], line 1\u001B[0m\n\u001B[0;32m----> 1\u001B[0m \u001B[43mraw\u001B[49m\u001B[38;5;241;43m.\u001B[39;49m\u001B[43msave\u001B[49m\u001B[43m(\u001B[49m\u001B[43mout_path\u001B[49m\u001B[43m,\u001B[49m\u001B[43m \u001B[49m\u001B[43moverwrite\u001B[49m\u001B[38;5;241;43m=\u001B[39;49m\u001B[38;5;28;43;01mFalse\u001B[39;49;00m\u001B[43m)\u001B[49m\n",
      "File \u001B[0;32m<decorator-gen-173>:12\u001B[0m, in \u001B[0;36msave\u001B[0;34m(self, fname, picks, tmin, tmax, buffer_size_sec, drop_small_buffer, proj, fmt, overwrite, split_size, split_naming, verbose)\u001B[0m\n",
      "File \u001B[0;32m~/Thesis/Thesis_code/.venv/lib/python3.11/site-packages/mne/io/base.py:1656\u001B[0m, in \u001B[0;36mBaseRaw.save\u001B[0;34m(self, fname, picks, tmin, tmax, buffer_size_sec, drop_small_buffer, proj, fmt, overwrite, split_size, split_naming, verbose)\u001B[0m\n\u001B[1;32m   1654\u001B[0m \u001B[38;5;66;03m# convert to str, check for overwrite a few lines later\u001B[39;00m\n\u001B[1;32m   1655\u001B[0m fname \u001B[38;5;241m=\u001B[39m _check_fname(fname, overwrite\u001B[38;5;241m=\u001B[39m\u001B[38;5;28;01mTrue\u001B[39;00m, verbose\u001B[38;5;241m=\u001B[39m\u001B[38;5;124m\"\u001B[39m\u001B[38;5;124merror\u001B[39m\u001B[38;5;124m\"\u001B[39m)\n\u001B[0;32m-> 1656\u001B[0m \u001B[43mcheck_fname\u001B[49m\u001B[43m(\u001B[49m\u001B[43mfname\u001B[49m\u001B[43m,\u001B[49m\u001B[43m \u001B[49m\u001B[38;5;124;43m\"\u001B[39;49m\u001B[38;5;124;43mraw\u001B[39;49m\u001B[38;5;124;43m\"\u001B[39;49m\u001B[43m,\u001B[49m\u001B[43m \u001B[49m\u001B[43mendings\u001B[49m\u001B[43m,\u001B[49m\u001B[43m \u001B[49m\u001B[43mendings_err\u001B[49m\u001B[38;5;241;43m=\u001B[39;49m\u001B[43mendings_err\u001B[49m\u001B[43m)\u001B[49m\n\u001B[1;32m   1658\u001B[0m split_size \u001B[38;5;241m=\u001B[39m _get_split_size(split_size)\n\u001B[1;32m   1659\u001B[0m \u001B[38;5;28;01mif\u001B[39;00m \u001B[38;5;129;01mnot\u001B[39;00m \u001B[38;5;28mself\u001B[39m\u001B[38;5;241m.\u001B[39mpreload \u001B[38;5;129;01mand\u001B[39;00m \u001B[38;5;28mstr\u001B[39m(fname) \u001B[38;5;129;01min\u001B[39;00m \u001B[38;5;28mself\u001B[39m\u001B[38;5;241m.\u001B[39m_filenames:\n",
      "File \u001B[0;32m~/Thesis/Thesis_code/.venv/lib/python3.11/site-packages/mne/utils/check.py:69\u001B[0m, in \u001B[0;36mcheck_fname\u001B[0;34m(fname, filetype, endings, endings_err)\u001B[0m\n\u001B[1;32m     67\u001B[0m \u001B[38;5;28;01mif\u001B[39;00m \u001B[38;5;28mlen\u001B[39m(endings_err) \u001B[38;5;241m>\u001B[39m \u001B[38;5;241m0\u001B[39m \u001B[38;5;129;01mand\u001B[39;00m \u001B[38;5;129;01mnot\u001B[39;00m fname\u001B[38;5;241m.\u001B[39mendswith(endings_err):\n\u001B[1;32m     68\u001B[0m     print_endings \u001B[38;5;241m=\u001B[39m \u001B[38;5;124m\"\u001B[39m\u001B[38;5;124m or \u001B[39m\u001B[38;5;124m\"\u001B[39m\u001B[38;5;241m.\u001B[39mjoin([\u001B[38;5;124m\"\u001B[39m\u001B[38;5;124m, \u001B[39m\u001B[38;5;124m\"\u001B[39m\u001B[38;5;241m.\u001B[39mjoin(endings_err[:\u001B[38;5;241m-\u001B[39m\u001B[38;5;241m1\u001B[39m]), endings_err[\u001B[38;5;241m-\u001B[39m\u001B[38;5;241m1\u001B[39m]])\n\u001B[0;32m---> 69\u001B[0m     \u001B[38;5;28;01mraise\u001B[39;00m \u001B[38;5;167;01mOSError\u001B[39;00m(\n\u001B[1;32m     70\u001B[0m         \u001B[38;5;124m\"\u001B[39m\u001B[38;5;124mThe filename (\u001B[39m\u001B[38;5;132;01m%s\u001B[39;00m\u001B[38;5;124m) for file type \u001B[39m\u001B[38;5;132;01m%s\u001B[39;00m\u001B[38;5;124m must end with \u001B[39m\u001B[38;5;132;01m%s\u001B[39;00m\u001B[38;5;124m\"\u001B[39m\n\u001B[1;32m     71\u001B[0m         \u001B[38;5;241m%\u001B[39m (fname, filetype, print_endings)\n\u001B[1;32m     72\u001B[0m     )\n\u001B[1;32m     73\u001B[0m print_endings \u001B[38;5;241m=\u001B[39m \u001B[38;5;124m\"\u001B[39m\u001B[38;5;124m or \u001B[39m\u001B[38;5;124m\"\u001B[39m\u001B[38;5;241m.\u001B[39mjoin([\u001B[38;5;124m\"\u001B[39m\u001B[38;5;124m, \u001B[39m\u001B[38;5;124m\"\u001B[39m\u001B[38;5;241m.\u001B[39mjoin(endings[:\u001B[38;5;241m-\u001B[39m\u001B[38;5;241m1\u001B[39m]), endings[\u001B[38;5;241m-\u001B[39m\u001B[38;5;241m1\u001B[39m]])\n\u001B[1;32m     74\u001B[0m \u001B[38;5;28;01mif\u001B[39;00m \u001B[38;5;129;01mnot\u001B[39;00m fname\u001B[38;5;241m.\u001B[39mendswith(endings):\n",
      "\u001B[0;31mOSError\u001B[0m: The filename (/media/soenke/7FDD-F716/Thesis/Data/Absence_newAnnot_BIDS/sub-021/eeg/sub-021_task-Absence_preprocessed-raw.edf) for file type raw must end with .fif or .fif.gz"
     ]
    }
   ],
   "execution_count": 68
  }
 ],
 "metadata": {
  "kernelspec": {
   "display_name": "Python 3",
   "language": "python",
   "name": "python3"
  },
  "language_info": {
   "codemirror_mode": {
    "name": "ipython",
    "version": 2
   },
   "file_extension": ".py",
   "mimetype": "text/x-python",
   "name": "python",
   "nbconvert_exporter": "python",
   "pygments_lexer": "ipython2",
   "version": "2.7.6"
  }
 },
 "nbformat": 4,
 "nbformat_minor": 5
}
